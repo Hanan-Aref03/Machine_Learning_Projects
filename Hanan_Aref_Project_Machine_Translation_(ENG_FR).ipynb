{
  "cells": [
    {
      "cell_type": "markdown",
      "metadata": {
        "id": "view-in-github",
        "colab_type": "text"
      },
      "source": [
        "<a href=\"https://colab.research.google.com/github/Hanan-Aref03/Machine_Learning_Projects/blob/main/Hanan_Aref_Project_Machine_Translation_(ENG_FR).ipynb\" target=\"_parent\"><img src=\"https://colab.research.google.com/assets/colab-badge.svg\" alt=\"Open In Colab\"/></a>"
      ]
    },
    {
      "cell_type": "markdown",
      "source": [
        "##Machine Translation Using a Seq2Seq Architecture\n",
        "© 2024, Zaka AI, Inc. All Rights Reserved.\n",
        "\n",
        "---\n",
        "The goal of this colab is to get you more familiar with the Seq2Seq models and their challenges. For this reason, you will be working on machine translation problem where we would have a sentence as input (in english), and the output is gonna be the translated sentence (in french). So just like what happens with Google Translate.\n"
      ],
      "metadata": {
        "id": "xiC75uo6u_Of"
      }
    },
    {
      "cell_type": "markdown",
      "source": [
        "**Just to give you a heads up:** We won't be having a model performing like Google translate, but at least we will have an idea about how Google Translate works and the challenges that exist with a translation problem.  "
      ],
      "metadata": {
        "id": "TeK4LPupvg_c"
      }
    },
    {
      "cell_type": "markdown",
      "source": [
        "## Importing Libraries"
      ],
      "metadata": {
        "id": "SBTvDTzBv293"
      }
    },
    {
      "cell_type": "markdown",
      "source": [
        "We start by importing numpy and pandas and then we can add the rest"
      ],
      "metadata": {
        "id": "4_j1ZzS3v6N3"
      }
    },
    {
      "cell_type": "code",
      "execution_count": null,
      "metadata": {
        "id": "n0IARXAX1e1m"
      },
      "outputs": [],
      "source": [
        "import pandas as pd\n",
        "import numpy as np"
      ]
    },
    {
      "cell_type": "markdown",
      "source": [
        "We clone the github repository where our data exists. Here is the github link: https://github.com/zaka-ai/machine_learning_certification/tree/main/Challenge%207"
      ],
      "metadata": {
        "id": "vAcLqZ7uv-SJ"
      }
    },
    {
      "cell_type": "code",
      "source": [
        "!git clone https://github.com/zaka-ai/machine_learning_certification.git"
      ],
      "metadata": {
        "colab": {
          "base_uri": "https://localhost:8080/"
        },
        "id": "a1vBUTupYh1i",
        "outputId": "a6c9d365-f3e7-43b0-a81c-2278251964e1"
      },
      "execution_count": null,
      "outputs": [
        {
          "output_type": "stream",
          "name": "stdout",
          "text": [
            "Cloning into 'machine_learning_certification'...\n",
            "remote: Enumerating objects: 43, done.\u001b[K\n",
            "remote: Counting objects: 100% (43/43), done.\u001b[K\n",
            "remote: Compressing objects: 100% (39/39), done.\u001b[K\n",
            "remote: Total 43 (delta 10), reused 10 (delta 1), pack-reused 0 (from 0)\u001b[K\n",
            "Receiving objects: 100% (43/43), 43.23 MiB | 17.55 MiB/s, done.\n",
            "Resolving deltas: 100% (10/10), done.\n"
          ]
        }
      ]
    },
    {
      "cell_type": "code",
      "source": [
        "%cd machine_learning_certification/Challenge 7\n",
        "%cd Challenge\\ 7\n",
        "!ls"
      ],
      "metadata": {
        "colab": {
          "base_uri": "https://localhost:8080/"
        },
        "id": "1xo-kIUAYwdn",
        "outputId": "7153415c-bda6-4a26-a438-5046afe3f5ce"
      },
      "execution_count": null,
      "outputs": [
        {
          "output_type": "stream",
          "name": "stdout",
          "text": [
            "/content/machine_learning_certification/Challenge 7\n",
            "[Errno 2] No such file or directory: 'Challenge 7'\n",
            "/content/machine_learning_certification/Challenge 7\n",
            "en.csv\tfr.csv\n"
          ]
        }
      ]
    },
    {
      "cell_type": "markdown",
      "source": [
        "## Getting the data"
      ],
      "metadata": {
        "id": "i3hLN42axOjn"
      }
    },
    {
      "cell_type": "code",
      "source": [
        "#Test Your Zaka\n",
        "# Load the English sentences\n",
        "english = pd.read_csv(\"en.csv\", header=None, names=[\"English\"])\n",
        "\n",
        "# Load the French sentences\n",
        "french = pd.read_csv(\"fr.csv\", header=None, names=[\"French\"])\n",
        "\n",
        "# Display the first few rows of each dataframe to verify\n",
        "print(\"English Dataset:\")\n",
        "print(english.head())\n",
        "\n",
        "print(\"\\nFrench Dataset:\")\n",
        "print(french.head())\n"
      ],
      "metadata": {
        "id": "0-M7cFxTPpqy",
        "colab": {
          "base_uri": "https://localhost:8080/"
        },
        "outputId": "f0f72545-1ddd-404b-d420-861840bfe30b"
      },
      "execution_count": null,
      "outputs": [
        {
          "output_type": "stream",
          "name": "stdout",
          "text": [
            "English Dataset:\n",
            "                                             English\n",
            "0  new jersey is sometimes quiet during autumn , ...\n",
            "1  the united states is usually chilly during jul...\n",
            "2  california is usually quiet during march , and...\n",
            "3  the united states is sometimes mild during jun...\n",
            "4  your least liked fruit is the grape , but my l...\n",
            "\n",
            "French Dataset:\n",
            "                                              French\n",
            "0  new jersey est parfois calme pendant l' automn...\n",
            "1  les états-unis est généralement froid en juill...\n",
            "2  california est généralement calme en mars , et...\n",
            "3  les états-unis est parfois légère en juin , et...\n",
            "4  votre moins aimé fruit est le raisin , mais mo...\n"
          ]
        }
      ]
    },
    {
      "cell_type": "markdown",
      "source": [
        "We read the english sentences in a dataframe named \"english\", and the french sentences in a dataframe named \"french\""
      ],
      "metadata": {
        "id": "BaPr0N8cwGAv"
      }
    },
    {
      "cell_type": "code",
      "execution_count": null,
      "metadata": {
        "id": "kFj8gkP01lGT"
      },
      "outputs": [],
      "source": [
        "#Test Your Zaka (English)\n",
        "import pandas as pd\n",
        "\n",
        "# Load the English and French datasets\n",
        "english = pd.read_csv(\"en.csv\", header=None, names=[\"English\"])\n",
        "french = pd.read_csv(\"fr.csv\", header=None, names=[\"French\"])\n"
      ]
    },
    {
      "cell_type": "code",
      "execution_count": null,
      "metadata": {
        "id": "P4A7ZKt32A7s"
      },
      "outputs": [],
      "source": [
        "#Test Your Zaka (French)"
      ]
    },
    {
      "cell_type": "markdown",
      "source": [
        "**How many sentences does each of the files contain?**"
      ],
      "metadata": {
        "id": "jr8OO1OhwSp4"
      }
    },
    {
      "cell_type": "code",
      "execution_count": null,
      "metadata": {
        "id": "XhWJP-b02HKq",
        "colab": {
          "base_uri": "https://localhost:8080/"
        },
        "outputId": "e45239a9-2754-4a78-80cc-dbcef1718341"
      },
      "outputs": [
        {
          "output_type": "stream",
          "name": "stdout",
          "text": [
            "Number of sentences in the English file: 137860\n",
            "Number of sentences in the French file: 137860\n"
          ]
        }
      ],
      "source": [
        "#Test Your Zaka\n",
        "# Count the number of sentences in each dataframe\n",
        "num_english_sentences = len(english)\n",
        "num_french_sentences = len(french)\n",
        "\n",
        "print(f\"Number of sentences in the English file: {num_english_sentences}\")\n",
        "print(f\"Number of sentences in the French file: {num_french_sentences}\")\n"
      ]
    },
    {
      "cell_type": "markdown",
      "source": [
        "Now let us concatenate the 2 dataframes into one dataframe that we call **df** where one column has the english senetnces and the other has the french sentences"
      ],
      "metadata": {
        "id": "ITGJN5tIwkDO"
      }
    },
    {
      "cell_type": "code",
      "execution_count": null,
      "metadata": {
        "id": "-ZXxahsB2njn",
        "colab": {
          "base_uri": "https://localhost:8080/"
        },
        "outputId": "75a7bab6-786c-41c9-878a-4f7ebbd23e4a"
      },
      "outputs": [
        {
          "output_type": "stream",
          "name": "stdout",
          "text": [
            "                                             English  \\\n",
            "0  new jersey is sometimes quiet during autumn , ...   \n",
            "1  the united states is usually chilly during jul...   \n",
            "2  california is usually quiet during march , and...   \n",
            "3  the united states is sometimes mild during jun...   \n",
            "4  your least liked fruit is the grape , but my l...   \n",
            "\n",
            "                                              French  \n",
            "0  new jersey est parfois calme pendant l' automn...  \n",
            "1  les états-unis est généralement froid en juill...  \n",
            "2  california est généralement calme en mars , et...  \n",
            "3  les états-unis est parfois légère en juin , et...  \n",
            "4  votre moins aimé fruit est le raisin , mais mo...  \n"
          ]
        }
      ],
      "source": [
        "#Test Your Zaka\n",
        "# Concatenate the English and French dataframes into one\n",
        "df = pd.concat([english, french], axis=1)\n",
        "\n",
        "# Display the first few rows to confirm\n",
        "print(df.head())"
      ]
    },
    {
      "cell_type": "markdown",
      "source": [
        "Let's name the columns as **English** and **French** so that we access them easier."
      ],
      "metadata": {
        "id": "nAr_caXkwwE7"
      }
    },
    {
      "cell_type": "code",
      "execution_count": null,
      "metadata": {
        "id": "eOHiQDXx3jFS",
        "colab": {
          "base_uri": "https://localhost:8080/"
        },
        "outputId": "a7a0afc5-416d-4ae5-d69d-d062fa6b05c6"
      },
      "outputs": [
        {
          "output_type": "stream",
          "name": "stdout",
          "text": [
            "                                             English  \\\n",
            "0  new jersey is sometimes quiet during autumn , ...   \n",
            "1  the united states is usually chilly during jul...   \n",
            "2  california is usually quiet during march , and...   \n",
            "3  the united states is sometimes mild during jun...   \n",
            "4  your least liked fruit is the grape , but my l...   \n",
            "\n",
            "                                              French  \n",
            "0  new jersey est parfois calme pendant l' automn...  \n",
            "1  les états-unis est généralement froid en juill...  \n",
            "2  california est généralement calme en mars , et...  \n",
            "3  les états-unis est parfois légère en juin , et...  \n",
            "4  votre moins aimé fruit est le raisin , mais mo...  \n"
          ]
        }
      ],
      "source": [
        "#Test Your Zaka\n",
        "# Rename the columns for easier access\n",
        "df.columns = [\"English\", \"French\"]\n",
        "\n",
        "# Display the updated dataframe\n",
        "print(df.head())\n"
      ]
    },
    {
      "cell_type": "markdown",
      "source": [
        "Pick a sentence and print it in both languages"
      ],
      "metadata": {
        "id": "4xc1TsEHw9yC"
      }
    },
    {
      "cell_type": "code",
      "execution_count": null,
      "metadata": {
        "id": "QuRVWch23ujo",
        "colab": {
          "base_uri": "https://localhost:8080/"
        },
        "outputId": "4e3e5436-40dc-45d8-cd66-07be6f45ea61"
      },
      "outputs": [
        {
          "output_type": "stream",
          "name": "stdout",
          "text": [
            "English: new jersey is sometimes quiet during autumn , and it is snowy in april .\n",
            "French: new jersey est parfois calme pendant l' automne , et il est neigeux en avril .\n"
          ]
        }
      ],
      "source": [
        "#Test Your Zaka\n",
        "# Pick a specific row (e.g., the first sentence)\n",
        "row_index = 0  # Change this index to select a different sentence\n",
        "\n",
        "# Print the sentence in both languages\n",
        "print(f\"English: {df.loc[row_index, 'English']}\")\n",
        "print(f\"French: {df.loc[row_index, 'French']}\")\n"
      ]
    },
    {
      "cell_type": "markdown",
      "source": [
        "##Cleaning Data"
      ],
      "metadata": {
        "id": "FQjXYP1txFCi"
      }
    },
    {
      "cell_type": "markdown",
      "source": [
        "The data that we have is almost clean as we can see, we just need to remove the punctuations inside of it."
      ],
      "metadata": {
        "id": "xgz6jIoVxHUF"
      }
    },
    {
      "cell_type": "code",
      "execution_count": null,
      "metadata": {
        "id": "6YYOt5QftcFI"
      },
      "outputs": [],
      "source": [
        "#Test Your Zaka\n",
        "import string\n",
        "# Function to remove punctuation from a sentence\n",
        "def remove_punctuation(sentence):\n",
        "    return sentence.translate(str.maketrans('', '', string.punctuation))\n",
        "\n",
        "# Remove punctuation from both English and French columns\n",
        "df['English'] = df['English'].apply(remove_punctuation)\n",
        "df['French'] = df['French'].apply(remove_punctuation)\n"
      ]
    },
    {
      "cell_type": "markdown",
      "source": [
        "Make sure that the punctuation is removed by printing the example that you printed earlier."
      ],
      "metadata": {
        "id": "0C1qsC9LxZPb"
      }
    },
    {
      "cell_type": "code",
      "execution_count": null,
      "metadata": {
        "id": "T80tiWxe84G7",
        "colab": {
          "base_uri": "https://localhost:8080/"
        },
        "outputId": "764ec3b5-4e73-4dad-fb5f-3063ee12ccbc"
      },
      "outputs": [
        {
          "output_type": "stream",
          "name": "stdout",
          "text": [
            "                                             English  \\\n",
            "0  new jersey is sometimes quiet during autumn  a...   \n",
            "1  the united states is usually chilly during jul...   \n",
            "2  california is usually quiet during march  and ...   \n",
            "3  the united states is sometimes mild during jun...   \n",
            "4  your least liked fruit is the grape  but my le...   \n",
            "\n",
            "                                              French  \n",
            "0  new jersey est parfois calme pendant l automne...  \n",
            "1  les étatsunis est généralement froid en juille...  \n",
            "2  california est généralement calme en mars  et ...  \n",
            "3  les étatsunis est parfois légère en juin  et i...  \n",
            "4  votre moins aimé fruit est le raisin  mais mon...  \n",
            "Cleaned English: new jersey is sometimes quiet during autumn  and it is snowy in april \n",
            "Cleaned French: new jersey est parfois calme pendant l automne  et il est neigeux en avril \n"
          ]
        }
      ],
      "source": [
        "#Test Your Zaka\n",
        "# Display the first few rows to verify\n",
        "print(df.head())\n",
        "\n",
        "# Print the cleaned example sentence\n",
        "print(f\"Cleaned English: {df.loc[row_index, 'English']}\")\n",
        "print(f\"Cleaned French: {df.loc[row_index, 'French']}\")\n"
      ]
    },
    {
      "cell_type": "markdown",
      "source": [
        "##Exploring the Data"
      ],
      "metadata": {
        "id": "ZuFNjoBAx4oN"
      }
    },
    {
      "cell_type": "markdown",
      "source": [
        "Add a column **ENG Length** to the dataset that shows how many words does a sentence contain, and do the same for french in a column called **FR Length**"
      ],
      "metadata": {
        "id": "ATfefzPExi2k"
      }
    },
    {
      "cell_type": "code",
      "execution_count": null,
      "metadata": {
        "id": "Dakeo81s352S"
      },
      "outputs": [],
      "source": [
        "#Test Your Zaka\n",
        "# Function to calculate the word count in a sentence\n",
        "def word_count(sentence):\n",
        "    return len(sentence.split())\n"
      ]
    },
    {
      "cell_type": "code",
      "execution_count": null,
      "metadata": {
        "id": "49keasjaPaaK",
        "colab": {
          "base_uri": "https://localhost:8080/"
        },
        "outputId": "85125421-f669-446c-af04-372a5bcc9e8d"
      },
      "outputs": [
        {
          "output_type": "stream",
          "name": "stdout",
          "text": [
            "                                             English  \\\n",
            "0  new jersey is sometimes quiet during autumn  a...   \n",
            "1  the united states is usually chilly during jul...   \n",
            "2  california is usually quiet during march  and ...   \n",
            "3  the united states is sometimes mild during jun...   \n",
            "4  your least liked fruit is the grape  but my le...   \n",
            "\n",
            "                                              French  ENG Length  FR Length  \n",
            "0  new jersey est parfois calme pendant l automne...          13         14  \n",
            "1  les étatsunis est généralement froid en juille...          15         13  \n",
            "2  california est généralement calme en mars  et ...          13         13  \n",
            "3  les étatsunis est parfois légère en juin  et i...          14         13  \n",
            "4  votre moins aimé fruit est le raisin  mais mon...          14         14  \n"
          ]
        }
      ],
      "source": [
        "#Test Your Zaka\n",
        "# Add new columns for word count in English and French\n",
        "df['ENG Length'] = df['English'].apply(word_count)\n",
        "df['FR Length'] = df['French'].apply(word_count)\n",
        "\n",
        "# Display the updated dataframe to verify\n",
        "print(df.head())\n"
      ]
    },
    {
      "cell_type": "markdown",
      "source": [
        "Visualize the distribution of the lengths of english sentences and french sentences."
      ],
      "metadata": {
        "id": "AjQLW0K5xwx1"
      }
    },
    {
      "cell_type": "code",
      "execution_count": null,
      "metadata": {
        "id": "_q_UIMJ09L24"
      },
      "outputs": [],
      "source": [
        "#Test Your Zaka\n",
        "import matplotlib.pyplot as plt\n",
        "import seaborn as sns\n"
      ]
    },
    {
      "cell_type": "code",
      "execution_count": null,
      "metadata": {
        "id": "TSn4L7kW9R7g",
        "colab": {
          "base_uri": "https://localhost:8080/",
          "height": 440
        },
        "outputId": "7210cacc-7949-463c-bd4d-e5eee7a138bd"
      },
      "outputs": [
        {
          "output_type": "display_data",
          "data": {
            "text/plain": [
              "<Figure size 1000x600 with 1 Axes>"
            ],
            "image/png": "[encoded data removed]"
          },
          "metadata": {}
        }
      ],
      "source": [
        "#Test Your Zaka\n",
        "# Set the style for seaborn\n",
        "sns.set(style=\"whitegrid\")\n",
        "\n",
        "# Create a figure for plotting\n",
        "plt.figure(figsize=(10, 6))\n",
        "\n",
        "# Plot histogram for the English sentence lengths\n",
        "sns.histplot(df['ENG Length'], kde=True, color=\"blue\", label=\"English Length\", bins=30)\n",
        "\n",
        "# Plot histogram for the French sentence lengths\n",
        "sns.histplot(df['FR Length'], kde=True, color=\"green\", label=\"French Length\", bins=30)\n",
        "\n",
        "# Add labels and title\n",
        "plt.title('Distribution of Sentence Lengths in English and French')\n",
        "plt.xlabel('Sentence Length (Word Count)')\n",
        "plt.ylabel('Frequency')\n",
        "\n",
        "# Show the legend\n",
        "plt.legend()\n",
        "\n",
        "# Display the plot\n",
        "plt.show()\n"
      ]
    },
    {
      "cell_type": "markdown",
      "source": [
        "Above we have a combined histogram with Kernel Density Estimation (KDE) for both English and French sentence lengths. The blue histogram will represent the English sentences, and the green histogram will represent the French sentences."
      ],
      "metadata": {
        "id": "xa-dfU2adBLm"
      }
    },
    {
      "cell_type": "markdown",
      "source": [
        "Get the maximum length of an english sentence and the maximum length of a french sentence."
      ],
      "metadata": {
        "id": "BDXb2d9ix9DV"
      }
    },
    {
      "cell_type": "code",
      "execution_count": null,
      "metadata": {
        "id": "BpnBB04U_lHd",
        "colab": {
          "base_uri": "https://localhost:8080/"
        },
        "outputId": "c0415264-7080-43da-b422-8d63b8c6ce7a"
      },
      "outputs": [
        {
          "output_type": "stream",
          "name": "stdout",
          "text": [
            "Maximum length of an English sentence: 15 words\n",
            "Maximum length of a French sentence: 21 words\n"
          ]
        }
      ],
      "source": [
        "#Test Your Zaka\n",
        "# Get the maximum length of English and French sentences\n",
        "max_english_length = df['ENG Length'].max()\n",
        "max_french_length = df['FR Length'].max()\n",
        "\n",
        "# Print the results\n",
        "print(f\"Maximum length of an English sentence: {max_english_length} words\")\n",
        "print(f\"Maximum length of a French sentence: {max_french_length} words\")\n"
      ]
    },
    {
      "cell_type": "markdown",
      "source": [
        "Maximum length of an English sentence: 15 words\n",
        "Maximum length of a French sentence: 21 words\n"
      ],
      "metadata": {
        "id": "gAgySYsNc3lJ"
      }
    },
    {
      "cell_type": "markdown",
      "source": [
        "##Preprocessing the Data"
      ],
      "metadata": {
        "id": "s4s-spsRyGJv"
      }
    },
    {
      "cell_type": "markdown",
      "source": [
        "In order for the data to be fed to the model, it has to be tokenized and padded."
      ],
      "metadata": {
        "id": "N0ZmIT2GyJMU"
      }
    },
    {
      "cell_type": "markdown",
      "source": [
        "####Tokenization"
      ],
      "metadata": {
        "id": "R0r9z-eErm9H"
      }
    },
    {
      "cell_type": "markdown",
      "source": [
        "**To tokenize english and french sentences, we can use only one tokenizer. True or False?**"
      ],
      "metadata": {
        "id": "X5L_zkhfyQuX"
      }
    },
    {
      "cell_type": "markdown",
      "source": [
        "The statement is **False** because to tokenize English and French sentences, you typically need separate tokenizers for each language because each language has its own vocabulary and rules for tokenization. Although both languages share some similarities, their syntax, structure, and grammar differ, so it's essential to handle them separately.\n",
        "\n",
        "For example, English might require tokenizing words like \"I'm\" into [\"I\", \"am\"], while French might have contractions like \"j'ai\" that need to be tokenized properly.\n",
        "\n",
        "Thus, you should use **one tokenizer for English** and a **separate tokenizer for French**."
      ],
      "metadata": {
        "id": "1Z0ZcNOeyauD"
      }
    },
    {
      "cell_type": "markdown",
      "source": [
        "Tokenize the sentences that we have."
      ],
      "metadata": {
        "id": "814mKDFiymcY"
      }
    },
    {
      "source": [
        "#Test Your Zaka\n",
        "!pip install tensorflow\n",
        "# Instead of importing from 'keras', import from 'tensorflow.keras'\n",
        "from tensorflow.keras.preprocessing.text import Tokenizer\n",
        "from tensorflow.keras.preprocessing.sequence import pad_sequences\n",
        "\n",
        "#from keras.preprocessing.text import Tokenizer\n",
        "#from keras.preprocessing.sequence import pad_sequences"
      ],
      "cell_type": "code",
      "metadata": {
        "colab": {
          "base_uri": "https://localhost:8080/"
        },
        "id": "K42mRceYezv4",
        "outputId": "58565e44-5e54-4373-b984-94f2c89a425b"
      },
      "execution_count": null,
      "outputs": [
        {
          "output_type": "stream",
          "name": "stdout",
          "text": [
            "Requirement already satisfied: tensorflow in /usr/local/lib/python3.11/dist-packages (2.17.1)\n",
            "Requirement already satisfied: absl-py>=1.0.0 in /usr/local/lib/python3.11/dist-packages (from tensorflow) (1.4.0)\n",
            "Requirement already satisfied: astunparse>=1.6.0 in /usr/local/lib/python3.11/dist-packages (from tensorflow) (1.6.3)\n",
            "Requirement already satisfied: flatbuffers>=24.3.25 in /usr/local/lib/python3.11/dist-packages (from tensorflow) (24.12.23)\n",
            "Requirement already satisfied: gast!=0.5.0,!=0.5.1,!=0.5.2,>=0.2.1 in /usr/local/lib/python3.11/dist-packages (from tensorflow) (0.6.0)\n",
            "Requirement already satisfied: google-pasta>=0.1.1 in /usr/local/lib/python3.11/dist-packages (from tensorflow) (0.2.0)\n",
            "Requirement already satisfied: h5py>=3.10.0 in /usr/local/lib/python3.11/dist-packages (from tensorflow) (3.12.1)\n",
            "Requirement already satisfied: libclang>=13.0.0 in /usr/local/lib/python3.11/dist-packages (from tensorflow) (18.1.1)\n",
            "Requirement already satisfied: ml-dtypes<0.5.0,>=0.3.1 in /usr/local/lib/python3.11/dist-packages (from tensorflow) (0.4.1)\n",
            "Requirement already satisfied: opt-einsum>=2.3.2 in /usr/local/lib/python3.11/dist-packages (from tensorflow) (3.4.0)\n",
            "Requirement already satisfied: packaging in /usr/local/lib/python3.11/dist-packages (from tensorflow) (24.2)\n",
            "Requirement already satisfied: protobuf!=4.21.0,!=4.21.1,!=4.21.2,!=4.21.3,!=4.21.4,!=4.21.5,<5.0.0dev,>=3.20.3 in /usr/local/lib/python3.11/dist-packages (from tensorflow) (4.25.5)\n",
            "Requirement already satisfied: requests<3,>=2.21.0 in /usr/local/lib/python3.11/dist-packages (from tensorflow) (2.32.3)\n",
            "Requirement already satisfied: setuptools in /usr/local/lib/python3.11/dist-packages (from tensorflow) (75.1.0)\n",
            "Requirement already satisfied: six>=1.12.0 in /usr/local/lib/python3.11/dist-packages (from tensorflow) (1.17.0)\n",
            "Requirement already satisfied: termcolor>=1.1.0 in /usr/local/lib/python3.11/dist-packages (from tensorflow) (2.5.0)\n",
            "Requirement already satisfied: typing-extensions>=3.6.6 in /usr/local/lib/python3.11/dist-packages (from tensorflow) (4.12.2)\n",
            "Requirement already satisfied: wrapt>=1.11.0 in /usr/local/lib/python3.11/dist-packages (from tensorflow) (1.17.0)\n",
            "Requirement already satisfied: grpcio<2.0,>=1.24.3 in /usr/local/lib/python3.11/dist-packages (from tensorflow) (1.69.0)\n",
            "Requirement already satisfied: tensorboard<2.18,>=2.17 in /usr/local/lib/python3.11/dist-packages (from tensorflow) (2.17.1)\n",
            "Requirement already satisfied: keras>=3.2.0 in /usr/local/lib/python3.11/dist-packages (from tensorflow) (3.5.0)\n",
            "Requirement already satisfied: tensorflow-io-gcs-filesystem>=0.23.1 in /usr/local/lib/python3.11/dist-packages (from tensorflow) (0.37.1)\n",
            "Requirement already satisfied: numpy<2.0.0,>=1.23.5 in /usr/local/lib/python3.11/dist-packages (from tensorflow) (1.26.4)\n",
            "Requirement already satisfied: wheel<1.0,>=0.23.0 in /usr/local/lib/python3.11/dist-packages (from astunparse>=1.6.0->tensorflow) (0.45.1)\n",
            "Requirement already satisfied: rich in /usr/local/lib/python3.11/dist-packages (from keras>=3.2.0->tensorflow) (13.9.4)\n",
            "Requirement already satisfied: namex in /usr/local/lib/python3.11/dist-packages (from keras>=3.2.0->tensorflow) (0.0.8)\n",
            "Requirement already satisfied: optree in /usr/local/lib/python3.11/dist-packages (from keras>=3.2.0->tensorflow) (0.13.1)\n",
            "Requirement already satisfied: charset-normalizer<4,>=2 in /usr/local/lib/python3.11/dist-packages (from requests<3,>=2.21.0->tensorflow) (3.4.1)\n",
            "Requirement already satisfied: idna<4,>=2.5 in /usr/local/lib/python3.11/dist-packages (from requests<3,>=2.21.0->tensorflow) (3.10)\n",
            "Requirement already satisfied: urllib3<3,>=1.21.1 in /usr/local/lib/python3.11/dist-packages (from requests<3,>=2.21.0->tensorflow) (2.3.0)\n",
            "Requirement already satisfied: certifi>=2017.4.17 in /usr/local/lib/python3.11/dist-packages (from requests<3,>=2.21.0->tensorflow) (2024.12.14)\n",
            "Requirement already satisfied: markdown>=2.6.8 in /usr/local/lib/python3.11/dist-packages (from tensorboard<2.18,>=2.17->tensorflow) (3.7)\n",
            "Requirement already satisfied: tensorboard-data-server<0.8.0,>=0.7.0 in /usr/local/lib/python3.11/dist-packages (from tensorboard<2.18,>=2.17->tensorflow) (0.7.2)\n",
            "Requirement already satisfied: werkzeug>=1.0.1 in /usr/local/lib/python3.11/dist-packages (from tensorboard<2.18,>=2.17->tensorflow) (3.1.3)\n",
            "Requirement already satisfied: MarkupSafe>=2.1.1 in /usr/local/lib/python3.11/dist-packages (from werkzeug>=1.0.1->tensorboard<2.18,>=2.17->tensorflow) (3.0.2)\n",
            "Requirement already satisfied: markdown-it-py>=2.2.0 in /usr/local/lib/python3.11/dist-packages (from rich->keras>=3.2.0->tensorflow) (3.0.0)\n",
            "Requirement already satisfied: pygments<3.0.0,>=2.13.0 in /usr/local/lib/python3.11/dist-packages (from rich->keras>=3.2.0->tensorflow) (2.18.0)\n",
            "Requirement already satisfied: mdurl~=0.1 in /usr/local/lib/python3.11/dist-packages (from markdown-it-py>=2.2.0->rich->keras>=3.2.0->tensorflow) (0.1.2)\n"
          ]
        }
      ]
    },
    {
      "cell_type": "code",
      "execution_count": null,
      "metadata": {
        "id": "aiXlciqFuQzW",
        "colab": {
          "base_uri": "https://localhost:8080/"
        },
        "outputId": "f27c9bba-ae0e-4eac-893a-f5db5d44b5ad"
      },
      "outputs": [
        {
          "output_type": "stream",
          "name": "stdout",
          "text": [
            "English Tokenized Sequences:\n",
            "[[17, 23, 1, 8, 67, 4, 39, 7, 3, 1, 55, 2, 44], [5, 20, 21, 1, 9, 62, 4, 43, 7, 3, 1, 9, 51, 2, 45], [22, 1, 9, 67, 4, 38, 7, 3, 1, 9, 68, 2, 34], [5, 20, 21, 1, 8, 64, 4, 34, 7, 3, 1, 57, 2, 42], [29, 12, 16, 13, 1, 5, 82, 6, 30, 12, 16, 1, 5, 83]]\n",
            "\n",
            "French Tokenized Sequences:\n",
            "[[34, 33, 1, 8, 66, 36, 11, 24, 6, 3, 1, 111, 2, 49], [4, 31, 1, 12, 19, 2, 48, 6, 3, 94, 68, 2, 50], [100, 1, 12, 66, 2, 44, 6, 3, 1, 12, 21, 2, 40], [4, 31, 1, 8, 268, 2, 40, 6, 3, 102, 19, 2, 47], [39, 13, 14, 16, 1, 10, 81, 5, 38, 13, 14, 1, 7, 82]]\n"
          ]
        }
      ],
      "source": [
        "#Test Your Zaka\n",
        "\n",
        "# Initialize the tokenizer for English\n",
        "english_tokenizer = Tokenizer()\n",
        "\n",
        "# Initialize the tokenizer for French\n",
        "french_tokenizer = Tokenizer()\n",
        "\n",
        "# Fit the tokenizers on the English and French data\n",
        "english_tokenizer.fit_on_texts(df['English'])\n",
        "french_tokenizer.fit_on_texts(df['French'])\n",
        "\n",
        "# Tokenize the English and French sentences\n",
        "english_sequences = english_tokenizer.texts_to_sequences(df['English'])\n",
        "french_sequences = french_tokenizer.texts_to_sequences(df['French'])\n",
        "\n",
        "# Display the first few tokenized sentences\n",
        "print(\"English Tokenized Sequences:\")\n",
        "print(english_sequences[:5])\n",
        "\n",
        "print(\"\\nFrench Tokenized Sequences:\")\n",
        "print(french_sequences[:5])\n",
        "\n"
      ]
    },
    {
      "cell_type": "markdown",
      "source": [
        "**How many unique words do we have in english and in french?**"
      ],
      "metadata": {
        "id": "aUN01jDXys9B"
      }
    },
    {
      "cell_type": "code",
      "execution_count": null,
      "metadata": {
        "id": "1WahkdzKvIlO",
        "colab": {
          "base_uri": "https://localhost:8080/"
        },
        "outputId": "531ad42f-bfbe-4045-e172-20a30e9155a8"
      },
      "outputs": [
        {
          "output_type": "stream",
          "name": "stdout",
          "text": [
            "Number of unique words in English: 199\n",
            "Number of unique words in French: 344\n"
          ]
        }
      ],
      "source": [
        "#Test Your Zaka\n",
        "# Number of unique words (vocabulary size)\n",
        "num_unique_words_eng = len(english_tokenizer.word_index)  # English vocabulary size\n",
        "num_unique_words_fr = len(french_tokenizer.word_index)    # French vocabulary size\n",
        "\n",
        "print(f\"Number of unique words in English: {num_unique_words_eng}\")\n",
        "print(f\"Number of unique words in French: {num_unique_words_fr}\")\n"
      ]
    },
    {
      "cell_type": "markdown",
      "source": [
        "####Padding"
      ],
      "metadata": {
        "id": "g0C2RJjArtJd"
      }
    },
    {
      "cell_type": "markdown",
      "source": [
        "**What should be the length of the sequences that we have after padding?**"
      ],
      "metadata": {
        "id": "vXdTXMo5y8oB"
      }
    },
    {
      "cell_type": "markdown",
      "source": [
        "The length of the sequences after padding should be equal to the maximum sentence length in the dataset. This ensures that all sentences in the dataset, whether English or French, have the same length and can be fed into the model efficiently.\n",
        "\n",
        "Here's how to determine the padding length:\n",
        "English sequences should be padded to the maximum length of an English sentence.\n",
        "French sequences should be padded to the maximum length of a French sentence."
      ],
      "metadata": {
        "id": "9wtHQsgXzImq"
      }
    },
    {
      "cell_type": "code",
      "source": [
        "#Calculate Maximum Length\n",
        "max_length_eng = max([len(seq) for seq in english_sequences])\n",
        "max_length_fr = max([len(seq) for seq in french_sequences])\n",
        "\n",
        "print(f\"Maximum length of English sentences: {max_length_eng}\")\n",
        "print(f\"Maximum length of French sentences: {max_length_fr}\")\n"
      ],
      "metadata": {
        "colab": {
          "base_uri": "https://localhost:8080/"
        },
        "id": "GBAA3Lbhfnaw",
        "outputId": "970a6487-f597-4c15-f088-71e90a5c175f"
      },
      "execution_count": null,
      "outputs": [
        {
          "output_type": "stream",
          "name": "stdout",
          "text": [
            "Maximum length of English sentences: 15\n",
            "Maximum length of French sentences: 21\n"
          ]
        }
      ]
    },
    {
      "cell_type": "markdown",
      "source": [
        "Perform padding on the sequences that we have."
      ],
      "metadata": {
        "id": "hRXayRzVzQD4"
      }
    },
    {
      "cell_type": "code",
      "execution_count": null,
      "metadata": {
        "id": "oNdO9EZrxvmN",
        "colab": {
          "base_uri": "https://localhost:8080/"
        },
        "outputId": "e1e06751-58bf-471c-e4b5-ae1e0f5505b2"
      },
      "outputs": [
        {
          "output_type": "stream",
          "name": "stdout",
          "text": [
            "Example of padded English sequence: [17 23  1  8 67  4 39  7  3  1 55  2 44  0  0]\n",
            "Example of padded French sequence: [ 34  33   1   8  66  36  11  24   6   3   1 111   2  49   0   0   0   0\n",
            "   0   0   0]\n"
          ]
        }
      ],
      "source": [
        "#Test Your Zaka\n",
        "#maxlen: Specifies the length to pad each sequence. This is set to the maximum sentence length for English and French, respectively.\n",
        "#padding='post': Pads zeros at the end of each sequence to ensure uniform length.\n",
        "\n",
        "from keras.preprocessing.sequence import pad_sequences\n",
        "\n",
        "# Define the maximum lengths for English and French sequences\n",
        "max_length_eng = max([len(seq) for seq in english_sequences])\n",
        "max_length_fr = max([len(seq) for seq in french_sequences])\n",
        "\n",
        "# Perform padding on English sequences\n",
        "english_padded = pad_sequences(english_sequences, maxlen=max_length_eng, padding='post')\n",
        "\n",
        "# Perform padding on French sequences\n",
        "french_padded = pad_sequences(french_sequences, maxlen=max_length_fr, padding='post')\n",
        "\n",
        "# Print examples to verify padding\n",
        "print(\"Example of padded English sequence:\", english_padded[0])\n",
        "print(\"Example of padded French sequence:\", french_padded[0])\n",
        "\n"
      ]
    },
    {
      "cell_type": "markdown",
      "source": [
        "##Modeling"
      ],
      "metadata": {
        "id": "JxvvVU3ezUHR"
      }
    },
    {
      "cell_type": "markdown",
      "source": [
        "After preprrocessing the data, we can build our model. Start by building a baseline architecture relying on one directional RNNs, LSTMs, or GRUs. It will be good to lookup how to build Seq2Seq models, there are some new layers that will help you like RepeatVector and TimeDistributed."
      ],
      "metadata": {
        "id": "FEKujJUEzVux"
      }
    },
    {
      "cell_type": "code",
      "execution_count": null,
      "metadata": {
        "id": "9oydzHkr3zDC",
        "colab": {
          "base_uri": "https://localhost:8080/",
          "height": 361
        },
        "outputId": "fbbfde96-27af-4718-ca7c-8ba2c9940ea5"
      },
      "outputs": [
        {
          "output_type": "stream",
          "name": "stderr",
          "text": [
            "/usr/local/lib/python3.11/dist-packages/keras/src/layers/core/embedding.py:90: UserWarning: Argument `input_length` is deprecated. Just remove it.\n",
            "  warnings.warn(\n"
          ]
        },
        {
          "output_type": "display_data",
          "data": {
            "text/plain": [
              "\u001b[1mModel: \"sequential\"\u001b[0m\n"
            ],
            "text/html": [
              "<pre style=\"white-space:pre;overflow-x:auto;line-height:normal;font-family:Menlo,'DejaVu Sans Mono',consolas,'Courier New',monospace\"><span style=\"font-weight: bold\">Model: \"sequential\"</span>\n",
              "</pre>\n"
            ]
          },
          "metadata": {}
        },
        {
          "output_type": "display_data",
          "data": {
            "text/plain": [
              "┏━━━━━━━━━━━━━━━━━━━━━━━━━━━━━━━━━━━━━━┳━━━━━━━━━━━━━━━━━━━━━━━━━━━━━┳━━━━━━━━━━━━━━━━━┓\n",
              "┃\u001b[1m \u001b[0m\u001b[1mLayer (type)                        \u001b[0m\u001b[1m \u001b[0m┃\u001b[1m \u001b[0m\u001b[1mOutput Shape               \u001b[0m\u001b[1m \u001b[0m┃\u001b[1m \u001b[0m\u001b[1m        Param #\u001b[0m\u001b[1m \u001b[0m┃\n",
              "┡━━━━━━━━━━━━━━━━━━━━━━━━━━━━━━━━━━━━━━╇━━━━━━━━━━━━━━━━━━━━━━━━━━━━━╇━━━━━━━━━━━━━━━━━┩\n",
              "│ embedding (\u001b[38;5;33mEmbedding\u001b[0m)                │ ?                           │     \u001b[38;5;34m0\u001b[0m (unbuilt) │\n",
              "├──────────────────────────────────────┼─────────────────────────────┼─────────────────┤\n",
              "│ lstm (\u001b[38;5;33mLSTM\u001b[0m)                          │ ?                           │     \u001b[38;5;34m0\u001b[0m (unbuilt) │\n",
              "├──────────────────────────────────────┼─────────────────────────────┼─────────────────┤\n",
              "│ repeat_vector (\u001b[38;5;33mRepeatVector\u001b[0m)         │ ?                           │     \u001b[38;5;34m0\u001b[0m (unbuilt) │\n",
              "├──────────────────────────────────────┼─────────────────────────────┼─────────────────┤\n",
              "│ lstm_1 (\u001b[38;5;33mLSTM\u001b[0m)                        │ ?                           │     \u001b[38;5;34m0\u001b[0m (unbuilt) │\n",
              "├──────────────────────────────────────┼─────────────────────────────┼─────────────────┤\n",
              "│ time_distributed (\u001b[38;5;33mTimeDistributed\u001b[0m)   │ ?                           │     \u001b[38;5;34m0\u001b[0m (unbuilt) │\n",
              "└──────────────────────────────────────┴─────────────────────────────┴─────────────────┘\n"
            ],
            "text/html": [
              "<pre style=\"white-space:pre;overflow-x:auto;line-height:normal;font-family:Menlo,'DejaVu Sans Mono',consolas,'Courier New',monospace\">┏━━━━━━━━━━━━━━━━━━━━━━━━━━━━━━━━━━━━━━┳━━━━━━━━━━━━━━━━━━━━━━━━━━━━━┳━━━━━━━━━━━━━━━━━┓\n",
              "┃<span style=\"font-weight: bold\"> Layer (type)                         </span>┃<span style=\"font-weight: bold\"> Output Shape                </span>┃<span style=\"font-weight: bold\">         Param # </span>┃\n",
              "┡━━━━━━━━━━━━━━━━━━━━━━━━━━━━━━━━━━━━━━╇━━━━━━━━━━━━━━━━━━━━━━━━━━━━━╇━━━━━━━━━━━━━━━━━┩\n",
              "│ embedding (<span style=\"color: #0087ff; text-decoration-color: #0087ff\">Embedding</span>)                │ ?                           │     <span style=\"color: #00af00; text-decoration-color: #00af00\">0</span> (unbuilt) │\n",
              "├──────────────────────────────────────┼─────────────────────────────┼─────────────────┤\n",
              "│ lstm (<span style=\"color: #0087ff; text-decoration-color: #0087ff\">LSTM</span>)                          │ ?                           │     <span style=\"color: #00af00; text-decoration-color: #00af00\">0</span> (unbuilt) │\n",
              "├──────────────────────────────────────┼─────────────────────────────┼─────────────────┤\n",
              "│ repeat_vector (<span style=\"color: #0087ff; text-decoration-color: #0087ff\">RepeatVector</span>)         │ ?                           │     <span style=\"color: #00af00; text-decoration-color: #00af00\">0</span> (unbuilt) │\n",
              "├──────────────────────────────────────┼─────────────────────────────┼─────────────────┤\n",
              "│ lstm_1 (<span style=\"color: #0087ff; text-decoration-color: #0087ff\">LSTM</span>)                        │ ?                           │     <span style=\"color: #00af00; text-decoration-color: #00af00\">0</span> (unbuilt) │\n",
              "├──────────────────────────────────────┼─────────────────────────────┼─────────────────┤\n",
              "│ time_distributed (<span style=\"color: #0087ff; text-decoration-color: #0087ff\">TimeDistributed</span>)   │ ?                           │     <span style=\"color: #00af00; text-decoration-color: #00af00\">0</span> (unbuilt) │\n",
              "└──────────────────────────────────────┴─────────────────────────────┴─────────────────┘\n",
              "</pre>\n"
            ]
          },
          "metadata": {}
        },
        {
          "output_type": "display_data",
          "data": {
            "text/plain": [
              "\u001b[1m Total params: \u001b[0m\u001b[38;5;34m0\u001b[0m (0.00 B)\n"
            ],
            "text/html": [
              "<pre style=\"white-space:pre;overflow-x:auto;line-height:normal;font-family:Menlo,'DejaVu Sans Mono',consolas,'Courier New',monospace\"><span style=\"font-weight: bold\"> Total params: </span><span style=\"color: #00af00; text-decoration-color: #00af00\">0</span> (0.00 B)\n",
              "</pre>\n"
            ]
          },
          "metadata": {}
        },
        {
          "output_type": "display_data",
          "data": {
            "text/plain": [
              "\u001b[1m Trainable params: \u001b[0m\u001b[38;5;34m0\u001b[0m (0.00 B)\n"
            ],
            "text/html": [
              "<pre style=\"white-space:pre;overflow-x:auto;line-height:normal;font-family:Menlo,'DejaVu Sans Mono',consolas,'Courier New',monospace\"><span style=\"font-weight: bold\"> Trainable params: </span><span style=\"color: #00af00; text-decoration-color: #00af00\">0</span> (0.00 B)\n",
              "</pre>\n"
            ]
          },
          "metadata": {}
        },
        {
          "output_type": "display_data",
          "data": {
            "text/plain": [
              "\u001b[1m Non-trainable params: \u001b[0m\u001b[38;5;34m0\u001b[0m (0.00 B)\n"
            ],
            "text/html": [
              "<pre style=\"white-space:pre;overflow-x:auto;line-height:normal;font-family:Menlo,'DejaVu Sans Mono',consolas,'Courier New',monospace\"><span style=\"font-weight: bold\"> Non-trainable params: </span><span style=\"color: #00af00; text-decoration-color: #00af00\">0</span> (0.00 B)\n",
              "</pre>\n"
            ]
          },
          "metadata": {}
        }
      ],
      "source": [
        "#Test Your Zaka\n",
        "from keras.models import Sequential\n",
        "from keras.layers import Embedding, LSTM, GRU, Dense, RepeatVector, TimeDistributed\n",
        "\n",
        "# Define the size of the vocabulary and embedding dimensions\n",
        "english_vocab_size = len(english_tokenizer.word_index) + 1\n",
        "french_vocab_size = len(french_tokenizer.word_index) + 1\n",
        "embedding_dim = 256\n",
        "latent_dim = 512\n",
        "\n",
        "# Build the Seq2Seq model\n",
        "model = Sequential()\n",
        "\n",
        "# Encoder: Embedding layer followed by an LSTM layer\n",
        "model.add(Embedding(input_dim=english_vocab_size, output_dim=embedding_dim, input_length=max_length_eng))\n",
        "model.add(LSTM(latent_dim, return_sequences=False))  # Outputs the latent representation (context vector)\n",
        "\n",
        "# RepeatVector: Copies the context vector for every timestep in the output\n",
        "model.add(RepeatVector(max_length_fr))\n",
        "\n",
        "# Decoder: LSTM layer that processes the repeated context vector\n",
        "model.add(LSTM(latent_dim, return_sequences=True))\n",
        "\n",
        "# TimeDistributed: Applies a Dense layer to each timestep in the decoder output\n",
        "model.add(TimeDistributed(Dense(french_vocab_size, activation='softmax')))\n",
        "\n",
        "# Compile the model\n",
        "model.compile(optimizer='adam', loss='sparse_categorical_crossentropy', metrics=['accuracy'])\n",
        "\n",
        "# Model summary\n",
        "model.summary()\n"
      ]
    },
    {
      "cell_type": "code",
      "source": [
        "# Reshape the French target sequences for sparse categorical cross-entropy\n",
        "#french_padded = french_padded.reshape(french_padded.shape[0], french_padded.shape[1], 1)\n",
        "\n",
        "# Train the model\n",
        "#model.fit(english_padded, french_padded, batch_size=64, epochs=20, validation_split=0.2)\n"
      ],
      "metadata": {
        "id": "vJwJb_dcg8ni"
      },
      "execution_count": null,
      "outputs": []
    },
    {
      "cell_type": "markdown",
      "source": [
        "Compile and train the model.\n",
        "**FYI:** While specifying the architecture of your model and the number of epochs for training, keeep in your mind that your model might take A LOT of time to train."
      ],
      "metadata": {
        "id": "aP10HtNBzpT0"
      }
    },
    {
      "cell_type": "code",
      "execution_count": null,
      "metadata": {
        "id": "lWw4nBNIFp9D",
        "colab": {
          "base_uri": "https://localhost:8080/",
          "height": 801
        },
        "outputId": "0dbe8042-9d4d-4240-b382-02eef4dd784c"
      },
      "outputs": [
        {
          "data": {
            "text/html": [
              "<pre style=\"white-space:pre;overflow-x:auto;line-height:normal;font-family:Menlo,'DejaVu Sans Mono',consolas,'Courier New',monospace\"><span style=\"font-weight: bold\">Model: \"functional\"</span>\n",
              "</pre>\n"
            ],
            "text/plain": [
              "\u001b[1mModel: \"functional\"\u001b[0m\n"
            ]
          },
          "metadata": {},
          "output_type": "display_data"
        },
        {
          "data": {
            "text/html": [
              "<pre style=\"white-space:pre;overflow-x:auto;line-height:normal;font-family:Menlo,'DejaVu Sans Mono',consolas,'Courier New',monospace\">┏━━━━━━━━━━━━━━━━━━━━━━━━━━━┳━━━━━━━━━━━━━━━━━━━━━━━━┳━━━━━━━━━━━━━━━━┳━━━━━━━━━━━━━━━━━━━━━━━━┓\n",
              "┃<span style=\"font-weight: bold\"> Layer (type)              </span>┃<span style=\"font-weight: bold\"> Output Shape           </span>┃<span style=\"font-weight: bold\">        Param # </span>┃<span style=\"font-weight: bold\"> Connected to           </span>┃\n",
              "┡━━━━━━━━━━━━━━━━━━━━━━━━━━━╇━━━━━━━━━━━━━━━━━━━━━━━━╇━━━━━━━━━━━━━━━━╇━━━━━━━━━━━━━━━━━━━━━━━━┩\n",
              "│ input_layer_1             │ (<span style=\"color: #00d7ff; text-decoration-color: #00d7ff\">None</span>, <span style=\"color: #00af00; text-decoration-color: #00af00\">15</span>)             │              <span style=\"color: #00af00; text-decoration-color: #00af00\">0</span> │ -                      │\n",
              "│ (<span style=\"color: #0087ff; text-decoration-color: #0087ff\">InputLayer</span>)              │                        │                │                        │\n",
              "├───────────────────────────┼────────────────────────┼────────────────┼────────────────────────┤\n",
              "│ embedding_2 (<span style=\"color: #0087ff; text-decoration-color: #0087ff\">Embedding</span>)   │ (<span style=\"color: #00d7ff; text-decoration-color: #00d7ff\">None</span>, <span style=\"color: #00af00; text-decoration-color: #00af00\">15</span>, <span style=\"color: #00af00; text-decoration-color: #00af00\">128</span>)        │         <span style=\"color: #00af00; text-decoration-color: #00af00\">25,600</span> │ input_layer_1[<span style=\"color: #00af00; text-decoration-color: #00af00\">0</span>][<span style=\"color: #00af00; text-decoration-color: #00af00\">0</span>]    │\n",
              "├───────────────────────────┼────────────────────────┼────────────────┼────────────────────────┤\n",
              "│ not_equal_1 (<span style=\"color: #0087ff; text-decoration-color: #0087ff\">NotEqual</span>)    │ (<span style=\"color: #00d7ff; text-decoration-color: #00d7ff\">None</span>, <span style=\"color: #00af00; text-decoration-color: #00af00\">15</span>)             │              <span style=\"color: #00af00; text-decoration-color: #00af00\">0</span> │ input_layer_1[<span style=\"color: #00af00; text-decoration-color: #00af00\">0</span>][<span style=\"color: #00af00; text-decoration-color: #00af00\">0</span>]    │\n",
              "├───────────────────────────┼────────────────────────┼────────────────┼────────────────────────┤\n",
              "│ lstm_3 (<span style=\"color: #0087ff; text-decoration-color: #0087ff\">LSTM</span>)             │ [(<span style=\"color: #00d7ff; text-decoration-color: #00d7ff\">None</span>, <span style=\"color: #00af00; text-decoration-color: #00af00\">256</span>), (<span style=\"color: #00d7ff; text-decoration-color: #00d7ff\">None</span>,   │        <span style=\"color: #00af00; text-decoration-color: #00af00\">394,240</span> │ embedding_2[<span style=\"color: #00af00; text-decoration-color: #00af00\">0</span>][<span style=\"color: #00af00; text-decoration-color: #00af00\">0</span>],     │\n",
              "│                           │ <span style=\"color: #00af00; text-decoration-color: #00af00\">256</span>), (<span style=\"color: #00d7ff; text-decoration-color: #00d7ff\">None</span>, <span style=\"color: #00af00; text-decoration-color: #00af00\">256</span>)]     │                │ not_equal_1[<span style=\"color: #00af00; text-decoration-color: #00af00\">0</span>][<span style=\"color: #00af00; text-decoration-color: #00af00\">0</span>]      │\n",
              "├───────────────────────────┼────────────────────────┼────────────────┼────────────────────────┤\n",
              "│ repeat_vector_1           │ (<span style=\"color: #00d7ff; text-decoration-color: #00d7ff\">None</span>, <span style=\"color: #00af00; text-decoration-color: #00af00\">21</span>, <span style=\"color: #00af00; text-decoration-color: #00af00\">256</span>)        │              <span style=\"color: #00af00; text-decoration-color: #00af00\">0</span> │ lstm_3[<span style=\"color: #00af00; text-decoration-color: #00af00\">0</span>][<span style=\"color: #00af00; text-decoration-color: #00af00\">0</span>]           │\n",
              "│ (<span style=\"color: #0087ff; text-decoration-color: #0087ff\">RepeatVector</span>)            │                        │                │                        │\n",
              "├───────────────────────────┼────────────────────────┼────────────────┼────────────────────────┤\n",
              "│ lstm_4 (<span style=\"color: #0087ff; text-decoration-color: #0087ff\">LSTM</span>)             │ (<span style=\"color: #00d7ff; text-decoration-color: #00d7ff\">None</span>, <span style=\"color: #00af00; text-decoration-color: #00af00\">21</span>, <span style=\"color: #00af00; text-decoration-color: #00af00\">256</span>)        │        <span style=\"color: #00af00; text-decoration-color: #00af00\">525,312</span> │ repeat_vector_1[<span style=\"color: #00af00; text-decoration-color: #00af00\">0</span>][<span style=\"color: #00af00; text-decoration-color: #00af00\">0</span>]  │\n",
              "├───────────────────────────┼────────────────────────┼────────────────┼────────────────────────┤\n",
              "│ time_distributed_1        │ (<span style=\"color: #00d7ff; text-decoration-color: #00d7ff\">None</span>, <span style=\"color: #00af00; text-decoration-color: #00af00\">21</span>, <span style=\"color: #00af00; text-decoration-color: #00af00\">345</span>)        │         <span style=\"color: #00af00; text-decoration-color: #00af00\">88,665</span> │ lstm_4[<span style=\"color: #00af00; text-decoration-color: #00af00\">0</span>][<span style=\"color: #00af00; text-decoration-color: #00af00\">0</span>]           │\n",
              "│ (<span style=\"color: #0087ff; text-decoration-color: #0087ff\">TimeDistributed</span>)         │                        │                │                        │\n",
              "└───────────────────────────┴────────────────────────┴────────────────┴────────────────────────┘\n",
              "</pre>\n"
            ],
            "text/plain": [
              "┏━━━━━━━━━━━━━━━━━━━━━━━━━━━┳━━━━━━━━━━━━━━━━━━━━━━━━┳━━━━━━━━━━━━━━━━┳━━━━━━━━━━━━━━━━━━━━━━━━┓\n",
              "┃\u001b[1m \u001b[0m\u001b[1mLayer (type)             \u001b[0m\u001b[1m \u001b[0m┃\u001b[1m \u001b[0m\u001b[1mOutput Shape          \u001b[0m\u001b[1m \u001b[0m┃\u001b[1m \u001b[0m\u001b[1m       Param #\u001b[0m\u001b[1m \u001b[0m┃\u001b[1m \u001b[0m\u001b[1mConnected to          \u001b[0m\u001b[1m \u001b[0m┃\n",
              "┡━━━━━━━━━━━━━━━━━━━━━━━━━━━╇━━━━━━━━━━━━━━━━━━━━━━━━╇━━━━━━━━━━━━━━━━╇━━━━━━━━━━━━━━━━━━━━━━━━┩\n",
              "│ input_layer_1             │ (\u001b[38;5;45mNone\u001b[0m, \u001b[38;5;34m15\u001b[0m)             │              \u001b[38;5;34m0\u001b[0m │ -                      │\n",
              "│ (\u001b[38;5;33mInputLayer\u001b[0m)              │                        │                │                        │\n",
              "├───────────────────────────┼────────────────────────┼────────────────┼────────────────────────┤\n",
              "│ embedding_2 (\u001b[38;5;33mEmbedding\u001b[0m)   │ (\u001b[38;5;45mNone\u001b[0m, \u001b[38;5;34m15\u001b[0m, \u001b[38;5;34m128\u001b[0m)        │         \u001b[38;5;34m25,600\u001b[0m │ input_layer_1[\u001b[38;5;34m0\u001b[0m][\u001b[38;5;34m0\u001b[0m]    │\n",
              "├───────────────────────────┼────────────────────────┼────────────────┼────────────────────────┤\n",
              "│ not_equal_1 (\u001b[38;5;33mNotEqual\u001b[0m)    │ (\u001b[38;5;45mNone\u001b[0m, \u001b[38;5;34m15\u001b[0m)             │              \u001b[38;5;34m0\u001b[0m │ input_layer_1[\u001b[38;5;34m0\u001b[0m][\u001b[38;5;34m0\u001b[0m]    │\n",
              "├───────────────────────────┼────────────────────────┼────────────────┼────────────────────────┤\n",
              "│ lstm_3 (\u001b[38;5;33mLSTM\u001b[0m)             │ [(\u001b[38;5;45mNone\u001b[0m, \u001b[38;5;34m256\u001b[0m), (\u001b[38;5;45mNone\u001b[0m,   │        \u001b[38;5;34m394,240\u001b[0m │ embedding_2[\u001b[38;5;34m0\u001b[0m][\u001b[38;5;34m0\u001b[0m],     │\n",
              "│                           │ \u001b[38;5;34m256\u001b[0m), (\u001b[38;5;45mNone\u001b[0m, \u001b[38;5;34m256\u001b[0m)]     │                │ not_equal_1[\u001b[38;5;34m0\u001b[0m][\u001b[38;5;34m0\u001b[0m]      │\n",
              "├───────────────────────────┼────────────────────────┼────────────────┼────────────────────────┤\n",
              "│ repeat_vector_1           │ (\u001b[38;5;45mNone\u001b[0m, \u001b[38;5;34m21\u001b[0m, \u001b[38;5;34m256\u001b[0m)        │              \u001b[38;5;34m0\u001b[0m │ lstm_3[\u001b[38;5;34m0\u001b[0m][\u001b[38;5;34m0\u001b[0m]           │\n",
              "│ (\u001b[38;5;33mRepeatVector\u001b[0m)            │                        │                │                        │\n",
              "├───────────────────────────┼────────────────────────┼────────────────┼────────────────────────┤\n",
              "│ lstm_4 (\u001b[38;5;33mLSTM\u001b[0m)             │ (\u001b[38;5;45mNone\u001b[0m, \u001b[38;5;34m21\u001b[0m, \u001b[38;5;34m256\u001b[0m)        │        \u001b[38;5;34m525,312\u001b[0m │ repeat_vector_1[\u001b[38;5;34m0\u001b[0m][\u001b[38;5;34m0\u001b[0m]  │\n",
              "├───────────────────────────┼────────────────────────┼────────────────┼────────────────────────┤\n",
              "│ time_distributed_1        │ (\u001b[38;5;45mNone\u001b[0m, \u001b[38;5;34m21\u001b[0m, \u001b[38;5;34m345\u001b[0m)        │         \u001b[38;5;34m88,665\u001b[0m │ lstm_4[\u001b[38;5;34m0\u001b[0m][\u001b[38;5;34m0\u001b[0m]           │\n",
              "│ (\u001b[38;5;33mTimeDistributed\u001b[0m)         │                        │                │                        │\n",
              "└───────────────────────────┴────────────────────────┴────────────────┴────────────────────────┘\n"
            ]
          },
          "metadata": {},
          "output_type": "display_data"
        },
        {
          "data": {
            "text/html": [
              "<pre style=\"white-space:pre;overflow-x:auto;line-height:normal;font-family:Menlo,'DejaVu Sans Mono',consolas,'Courier New',monospace\"><span style=\"font-weight: bold\"> Total params: </span><span style=\"color: #00af00; text-decoration-color: #00af00\">1,033,817</span> (3.94 MB)\n",
              "</pre>\n"
            ],
            "text/plain": [
              "\u001b[1m Total params: \u001b[0m\u001b[38;5;34m1,033,817\u001b[0m (3.94 MB)\n"
            ]
          },
          "metadata": {},
          "output_type": "display_data"
        },
        {
          "data": {
            "text/html": [
              "<pre style=\"white-space:pre;overflow-x:auto;line-height:normal;font-family:Menlo,'DejaVu Sans Mono',consolas,'Courier New',monospace\"><span style=\"font-weight: bold\"> Trainable params: </span><span style=\"color: #00af00; text-decoration-color: #00af00\">1,033,817</span> (3.94 MB)\n",
              "</pre>\n"
            ],
            "text/plain": [
              "\u001b[1m Trainable params: \u001b[0m\u001b[38;5;34m1,033,817\u001b[0m (3.94 MB)\n"
            ]
          },
          "metadata": {},
          "output_type": "display_data"
        },
        {
          "data": {
            "text/html": [
              "<pre style=\"white-space:pre;overflow-x:auto;line-height:normal;font-family:Menlo,'DejaVu Sans Mono',consolas,'Courier New',monospace\"><span style=\"font-weight: bold\"> Non-trainable params: </span><span style=\"color: #00af00; text-decoration-color: #00af00\">0</span> (0.00 B)\n",
              "</pre>\n"
            ],
            "text/plain": [
              "\u001b[1m Non-trainable params: \u001b[0m\u001b[38;5;34m0\u001b[0m (0.00 B)\n"
            ]
          },
          "metadata": {},
          "output_type": "display_data"
        },
        {
          "output_type": "stream",
          "name": "stdout",
          "text": [
            "Epoch 1/10\n",
            "\u001b[1m1724/1724\u001b[0m \u001b[32m━━━━━━━━━━━━━━━━━━━━\u001b[0m\u001b[37m\u001b[0m \u001b[1m749s\u001b[0m 430ms/step - accuracy: 0.5687 - loss: 1.9026 - val_accuracy: 0.7663 - val_loss: 0.7798\n",
            "Epoch 2/10\n",
            "\u001b[1m1724/1724\u001b[0m \u001b[32m━━━━━━━━━━━━━━━━━━━━\u001b[0m\u001b[37m\u001b[0m \u001b[1m771s\u001b[0m 447ms/step - accuracy: 0.7935 - loss: 0.6781 - val_accuracy: 0.8665 - val_loss: 0.4426\n",
            "Epoch 3/10\n",
            "\u001b[1m1724/1724\u001b[0m \u001b[32m━━━━━━━━━━━━━━━━━━━━\u001b[0m\u001b[37m\u001b[0m \u001b[1m799s\u001b[0m 445ms/step - accuracy: 0.8937 - loss: 0.3537 - val_accuracy: 0.9342 - val_loss: 0.2277\n",
            "Epoch 4/10\n",
            "\u001b[1m1724/1724\u001b[0m \u001b[32m━━━━━━━━━━━━━━━━━━━━\u001b[0m\u001b[37m\u001b[0m \u001b[1m753s\u001b[0m 417ms/step - accuracy: 0.9460 - loss: 0.1857 - val_accuracy: 0.9551 - val_loss: 0.1484\n",
            "Epoch 5/10\n",
            "\u001b[1m1724/1724\u001b[0m \u001b[32m━━━━━━━━━━━━━━━━━━━━\u001b[0m\u001b[37m\u001b[0m \u001b[1m784s\u001b[0m 441ms/step - accuracy: 0.9602 - loss: 0.1309 - val_accuracy: 0.9636 - val_loss: 0.1162\n",
            "Epoch 6/10\n",
            "\u001b[1m1724/1724\u001b[0m \u001b[32m━━━━━━━━━━━━━━━━━━━━\u001b[0m\u001b[37m\u001b[0m \u001b[1m812s\u001b[0m 448ms/step - accuracy: 0.9686 - loss: 0.1016 - val_accuracy: 0.9672 - val_loss: 0.1079\n",
            "Epoch 7/10\n",
            "\u001b[1m1724/1724\u001b[0m \u001b[32m━━━━━━━━━━━━━━━━━━━━\u001b[0m\u001b[37m\u001b[0m \u001b[1m771s\u001b[0m 447ms/step - accuracy: 0.9737 - loss: 0.0838 - val_accuracy: 0.9728 - val_loss: 0.0901\n",
            "Epoch 8/10\n",
            "\u001b[1m1724/1724\u001b[0m \u001b[32m━━━━━━━━━━━━━━━━━━━━\u001b[0m\u001b[37m\u001b[0m \u001b[1m739s\u001b[0m 428ms/step - accuracy: 0.9758 - loss: 0.0793 - val_accuracy: 0.9684 - val_loss: 0.1037\n",
            "Epoch 9/10\n",
            "\u001b[1m1724/1724\u001b[0m \u001b[32m━━━━━━━━━━━━━━━━━━━━\u001b[0m\u001b[37m\u001b[0m \u001b[1m736s\u001b[0m 425ms/step - accuracy: 0.9801 - loss: 0.0634 - val_accuracy: 0.9778 - val_loss: 0.0739\n",
            "Epoch 10/10\n",
            "\u001b[1m1724/1724\u001b[0m \u001b[32m━━━━━━━━━━━━━━━━━━━━\u001b[0m\u001b[37m\u001b[0m \u001b[1m769s\u001b[0m 446ms/step - accuracy: 0.9829 - loss: 0.0555 - val_accuracy: 0.9767 - val_loss: 0.0823\n"
          ]
        }
      ],
      "source": [
        "#Test Your Zaka\n",
        "from keras.models import Model\n",
        "from keras.layers import Input, Embedding, LSTM, GRU, Dense, RepeatVector, TimeDistributed\n",
        "\n",
        "# Define the model architecture\n",
        "def create_model(english_vocab_size, french_vocab_size, max_length_eng, max_length_fr, embedding_dim=128, latent_dim=256):\n",
        "    # Encoder\n",
        "    encoder_input = Input(shape=(max_length_eng,))\n",
        "    encoder_embedding = Embedding(input_dim=english_vocab_size, output_dim=embedding_dim, mask_zero=True)(encoder_input)\n",
        "     # Fix: Unpack all three returned values from LSTM\n",
        "    encoder_output, state_h, state_c = LSTM(latent_dim, return_state=True)(encoder_embedding)\n",
        "    encoder_state = [state_h, state_c] # Combine hidden and cell state into a list\n",
        "\n",
        "\n",
        "    # Decoder\n",
        "    decoder_input = RepeatVector(max_length_fr)(encoder_output)\n",
        "    decoder_output = LSTM(latent_dim, return_sequences=True)(decoder_input)\n",
        "    decoder_dense = TimeDistributed(Dense(french_vocab_size, activation='softmax'))(decoder_output)\n",
        "\n",
        "    # Model\n",
        "    model = Model(inputs=encoder_input, outputs=decoder_dense)\n",
        "    model.compile(optimizer='adam', loss='sparse_categorical_crossentropy', metrics=['accuracy'])\n",
        "    return model\n",
        "\n",
        "# Create the model\n",
        "model = create_model(\n",
        "    english_vocab_size=len(english_tokenizer.word_index) + 1,\n",
        "    french_vocab_size=len(french_tokenizer.word_index) + 1,\n",
        "    max_length_eng=max_length_eng,\n",
        "    max_length_fr=max_length_fr\n",
        ")\n",
        "\n",
        "# Print the model summary\n",
        "model.summary()\n",
        "\n",
        "# Train the model\n",
        "# Ensure French target data is reshaped for sparse_categorical_crossentropy\n",
        "french_padded = french_padded.reshape(french_padded.shape[0], french_padded.shape[1], 1)\n",
        "\n",
        "# Train the model\n",
        "history = model.fit(\n",
        "    english_padded,\n",
        "    french_padded,\n",
        "    batch_size=64,\n",
        "    epochs=10,  # Use fewer epochs for efficiency\n",
        "    validation_split=0.2\n",
        ")\n"
      ]
    },
    {
      "cell_type": "markdown",
      "source": [
        "Define a function that gets an input sentence in english and gives the output sentence in the french language."
      ],
      "metadata": {
        "id": "9UoEcxyJztiQ"
      }
    },
    {
      "cell_type": "code",
      "source": [
        "#Test Your Zaka\n",
        "import numpy as np\n",
        "\n",
        "def translate_sentence(input_sentence, model, english_tokenizer, french_tokenizer, max_length_eng, max_length_fr):\n",
        "    \"\"\"\n",
        "    Translates an English sentence into French using the trained model.\n",
        "\n",
        "    Args:\n",
        "        input_sentence (str): The English sentence to translate.\n",
        "        model (keras.Model): The trained Seq2Seq model.\n",
        "        english_tokenizer (Tokenizer): Tokenizer for English sentences.\n",
        "        french_tokenizer (Tokenizer): Tokenizer for French sentences.\n",
        "        max_length_eng (int): Maximum length of English sentences.\n",
        "        max_length_fr (int): Maximum length of French sentences.\n",
        "\n",
        "    Returns:\n",
        "        str: The translated French sentence.\n",
        "    \"\"\"\n",
        "    # Tokenize and pad the input English sentence\n",
        "    input_sequence = english_tokenizer.texts_to_sequences([input_sentence])\n",
        "    input_sequence = pad_sequences(input_sequence, maxlen=max_length_eng, padding='post')\n",
        "\n",
        "    # Predict the French sentence\n",
        "    prediction = model.predict(input_sequence)\n",
        "    predicted_sequence = np.argmax(prediction, axis=-1).flatten()\n",
        "\n",
        "    # Decode the predicted sequence into words\n",
        "    french_word_index = {index: word for word, index in french_tokenizer.word_index.items()}\n",
        "    translated_sentence = ' '.join([french_word_index.get(idx, '') for idx in predicted_sequence if idx > 0])\n",
        "\n",
        "    return translated_sentence\n",
        "\n",
        "# Example Usage\n",
        "english_sentence = \"I am happy to help\"\n",
        "translated_sentence = translate_sentence(\n",
        "    input_sentence=english_sentence,\n",
        "    model=model,\n",
        "    english_tokenizer=english_tokenizer,\n",
        "    french_tokenizer=french_tokenizer,\n",
        "    max_length_eng=max_length_eng,\n",
        "    max_length_fr=max_length_fr\n",
        ")\n",
        "print(\"English:\", english_sentence)\n",
        "print(\"French:\", translated_sentence)\n"
      ],
      "metadata": {
        "id": "fUU_RdCxYpM6",
        "colab": {
          "base_uri": "https://localhost:8080/"
        },
        "outputId": "9dac2042-9c1d-41c8-8fbc-fa8be0d53a1c"
      },
      "execution_count": null,
      "outputs": [
        {
          "output_type": "stream",
          "name": "stdout",
          "text": [
            "\u001b[1m1/1\u001b[0m \u001b[32m━━━━━━━━━━━━━━━━━━━━\u001b[0m\u001b[37m\u001b[0m \u001b[1m3s\u001b[0m 3s/step\n",
            "English: I am happy to help\n",
            "French: je est en en juin\n"
          ]
        }
      ]
    },
    {
      "cell_type": "markdown",
      "source": [
        "Test the following sentence"
      ],
      "metadata": {
        "id": "XUQIcAjWz3bt"
      }
    },
    {
      "cell_type": "code",
      "execution_count": null,
      "metadata": {
        "id": "fDmNqnZIQMko",
        "colab": {
          "base_uri": "https://localhost:8080/"
        },
        "outputId": "fffd26cc-449c-4a0f-8618-58ebbad11d2e"
      },
      "outputs": [
        {
          "output_type": "stream",
          "name": "stdout",
          "text": [
            "\u001b[1m1/1\u001b[0m \u001b[32m━━━━━━━━━━━━━━━━━━━━\u001b[0m\u001b[37m\u001b[0m \u001b[1m0s\u001b[0m 50ms/step\n",
            "English: she is driving the truck\n",
            "French: elle aimait le camion\n"
          ]
        }
      ],
      "source": [
        "input_sentence = \"she is driving the truck\"\n",
        "\n",
        "#Test Your Zaka\n",
        "# Translate the sentence\n",
        "translated_sentence = translate_sentence(\n",
        "    input_sentence=input_sentence,\n",
        "    model=model,\n",
        "    english_tokenizer=english_tokenizer,\n",
        "    french_tokenizer=french_tokenizer,\n",
        "    max_length_eng=max_length_eng,\n",
        "    max_length_fr=max_length_fr\n",
        ")\n",
        "\n",
        "# Print the result\n",
        "print(\"English:\", input_sentence)\n",
        "print(\"French:\", translated_sentence)"
      ]
    },
    {
      "cell_type": "markdown",
      "source": [
        "Try to improve your model by modifying the architecture to take into account bidirectionality which is very useful in Machine Translation. Create a new model called model2"
      ],
      "metadata": {
        "id": "wdI2XhaBz6CN"
      }
    },
    {
      "cell_type": "code",
      "execution_count": null,
      "metadata": {
        "id": "Ch28BLsbGnCn",
        "colab": {
          "base_uri": "https://localhost:8080/",
          "height": 361
        },
        "outputId": "cc3443db-7c10-48c8-d930-769332b5c348"
      },
      "outputs": [
        {
          "output_type": "stream",
          "name": "stderr",
          "text": [
            "/usr/local/lib/python3.11/dist-packages/keras/src/layers/core/embedding.py:90: UserWarning: Argument `input_length` is deprecated. Just remove it.\n",
            "  warnings.warn(\n"
          ]
        },
        {
          "output_type": "display_data",
          "data": {
            "text/plain": [
              "\u001b[1mModel: \"sequential_1\"\u001b[0m\n"
            ],
            "text/html": [
              "<pre style=\"white-space:pre;overflow-x:auto;line-height:normal;font-family:Menlo,'DejaVu Sans Mono',consolas,'Courier New',monospace\"><span style=\"font-weight: bold\">Model: \"sequential_1\"</span>\n",
              "</pre>\n"
            ]
          },
          "metadata": {}
        },
        {
          "output_type": "display_data",
          "data": {
            "text/plain": [
              "┏━━━━━━━━━━━━━━━━━━━━━━━━━━━━━━━━━━━━━━┳━━━━━━━━━━━━━━━━━━━━━━━━━━━━━┳━━━━━━━━━━━━━━━━━┓\n",
              "┃\u001b[1m \u001b[0m\u001b[1mLayer (type)                        \u001b[0m\u001b[1m \u001b[0m┃\u001b[1m \u001b[0m\u001b[1mOutput Shape               \u001b[0m\u001b[1m \u001b[0m┃\u001b[1m \u001b[0m\u001b[1m        Param #\u001b[0m\u001b[1m \u001b[0m┃\n",
              "┡━━━━━━━━━━━━━━━━━━━━━━━━━━━━━━━━━━━━━━╇━━━━━━━━━━━━━━━━━━━━━━━━━━━━━╇━━━━━━━━━━━━━━━━━┩\n",
              "│ embedding_3 (\u001b[38;5;33mEmbedding\u001b[0m)              │ ?                           │     \u001b[38;5;34m0\u001b[0m (unbuilt) │\n",
              "├──────────────────────────────────────┼─────────────────────────────┼─────────────────┤\n",
              "│ bidirectional (\u001b[38;5;33mBidirectional\u001b[0m)        │ ?                           │     \u001b[38;5;34m0\u001b[0m (unbuilt) │\n",
              "├──────────────────────────────────────┼─────────────────────────────┼─────────────────┤\n",
              "│ repeat_vector_2 (\u001b[38;5;33mRepeatVector\u001b[0m)       │ ?                           │     \u001b[38;5;34m0\u001b[0m (unbuilt) │\n",
              "├──────────────────────────────────────┼─────────────────────────────┼─────────────────┤\n",
              "│ bidirectional_1 (\u001b[38;5;33mBidirectional\u001b[0m)      │ ?                           │     \u001b[38;5;34m0\u001b[0m (unbuilt) │\n",
              "├──────────────────────────────────────┼─────────────────────────────┼─────────────────┤\n",
              "│ time_distributed_2 (\u001b[38;5;33mTimeDistributed\u001b[0m) │ ?                           │     \u001b[38;5;34m0\u001b[0m (unbuilt) │\n",
              "└──────────────────────────────────────┴─────────────────────────────┴─────────────────┘\n"
            ],
            "text/html": [
              "<pre style=\"white-space:pre;overflow-x:auto;line-height:normal;font-family:Menlo,'DejaVu Sans Mono',consolas,'Courier New',monospace\">┏━━━━━━━━━━━━━━━━━━━━━━━━━━━━━━━━━━━━━━┳━━━━━━━━━━━━━━━━━━━━━━━━━━━━━┳━━━━━━━━━━━━━━━━━┓\n",
              "┃<span style=\"font-weight: bold\"> Layer (type)                         </span>┃<span style=\"font-weight: bold\"> Output Shape                </span>┃<span style=\"font-weight: bold\">         Param # </span>┃\n",
              "┡━━━━━━━━━━━━━━━━━━━━━━━━━━━━━━━━━━━━━━╇━━━━━━━━━━━━━━━━━━━━━━━━━━━━━╇━━━━━━━━━━━━━━━━━┩\n",
              "│ embedding_3 (<span style=\"color: #0087ff; text-decoration-color: #0087ff\">Embedding</span>)              │ ?                           │     <span style=\"color: #00af00; text-decoration-color: #00af00\">0</span> (unbuilt) │\n",
              "├──────────────────────────────────────┼─────────────────────────────┼─────────────────┤\n",
              "│ bidirectional (<span style=\"color: #0087ff; text-decoration-color: #0087ff\">Bidirectional</span>)        │ ?                           │     <span style=\"color: #00af00; text-decoration-color: #00af00\">0</span> (unbuilt) │\n",
              "├──────────────────────────────────────┼─────────────────────────────┼─────────────────┤\n",
              "│ repeat_vector_2 (<span style=\"color: #0087ff; text-decoration-color: #0087ff\">RepeatVector</span>)       │ ?                           │     <span style=\"color: #00af00; text-decoration-color: #00af00\">0</span> (unbuilt) │\n",
              "├──────────────────────────────────────┼─────────────────────────────┼─────────────────┤\n",
              "│ bidirectional_1 (<span style=\"color: #0087ff; text-decoration-color: #0087ff\">Bidirectional</span>)      │ ?                           │     <span style=\"color: #00af00; text-decoration-color: #00af00\">0</span> (unbuilt) │\n",
              "├──────────────────────────────────────┼─────────────────────────────┼─────────────────┤\n",
              "│ time_distributed_2 (<span style=\"color: #0087ff; text-decoration-color: #0087ff\">TimeDistributed</span>) │ ?                           │     <span style=\"color: #00af00; text-decoration-color: #00af00\">0</span> (unbuilt) │\n",
              "└──────────────────────────────────────┴─────────────────────────────┴─────────────────┘\n",
              "</pre>\n"
            ]
          },
          "metadata": {}
        },
        {
          "output_type": "display_data",
          "data": {
            "text/plain": [
              "\u001b[1m Total params: \u001b[0m\u001b[38;5;34m0\u001b[0m (0.00 B)\n"
            ],
            "text/html": [
              "<pre style=\"white-space:pre;overflow-x:auto;line-height:normal;font-family:Menlo,'DejaVu Sans Mono',consolas,'Courier New',monospace\"><span style=\"font-weight: bold\"> Total params: </span><span style=\"color: #00af00; text-decoration-color: #00af00\">0</span> (0.00 B)\n",
              "</pre>\n"
            ]
          },
          "metadata": {}
        },
        {
          "output_type": "display_data",
          "data": {
            "text/plain": [
              "\u001b[1m Trainable params: \u001b[0m\u001b[38;5;34m0\u001b[0m (0.00 B)\n"
            ],
            "text/html": [
              "<pre style=\"white-space:pre;overflow-x:auto;line-height:normal;font-family:Menlo,'DejaVu Sans Mono',consolas,'Courier New',monospace\"><span style=\"font-weight: bold\"> Trainable params: </span><span style=\"color: #00af00; text-decoration-color: #00af00\">0</span> (0.00 B)\n",
              "</pre>\n"
            ]
          },
          "metadata": {}
        },
        {
          "output_type": "display_data",
          "data": {
            "text/plain": [
              "\u001b[1m Non-trainable params: \u001b[0m\u001b[38;5;34m0\u001b[0m (0.00 B)\n"
            ],
            "text/html": [
              "<pre style=\"white-space:pre;overflow-x:auto;line-height:normal;font-family:Menlo,'DejaVu Sans Mono',consolas,'Courier New',monospace\"><span style=\"font-weight: bold\"> Non-trainable params: </span><span style=\"color: #00af00; text-decoration-color: #00af00\">0</span> (0.00 B)\n",
              "</pre>\n"
            ]
          },
          "metadata": {}
        }
      ],
      "source": [
        "#Test Your Zaka\n",
        "from keras.layers import Bidirectional\n",
        "\n",
        "# Define the architecture\n",
        "model2 = Sequential()\n",
        "\n",
        "# Encoder: Add a Bidirectional LSTM layer\n",
        "model2.add(Embedding(input_dim=english_vocab_size, output_dim=256, input_length=max_length_eng))\n",
        "model2.add(Bidirectional(LSTM(128, return_sequences=False)))\n",
        "\n",
        "# Repeat the encoded context vector\n",
        "model2.add(RepeatVector(max_length_fr))\n",
        "\n",
        "# Decoder: Add Bidirectional LSTM layers\n",
        "model2.add(Bidirectional(LSTM(128, return_sequences=True)))\n",
        "\n",
        "# TimeDistributed dense layer for the output\n",
        "model2.add(TimeDistributed(Dense(french_vocab_size, activation='softmax')))\n",
        "\n",
        "# Compile the model\n",
        "model2.compile(optimizer='adam', loss='sparse_categorical_crossentropy', metrics=['accuracy'])\n",
        "\n",
        "# Summary of the model\n",
        "model2.summary()\n"
      ]
    },
    {
      "cell_type": "markdown",
      "source": [
        "compile and train your new model."
      ],
      "metadata": {
        "id": "EHDvxt9L0C21"
      }
    },
    {
      "cell_type": "code",
      "execution_count": null,
      "metadata": {
        "id": "iK1QvVmaTWI2",
        "colab": {
          "base_uri": "https://localhost:8080/"
        },
        "outputId": "6310f901-1f29-4071-9838-7b689cce7f4c"
      },
      "outputs": [
        {
          "output_type": "stream",
          "name": "stdout",
          "text": [
            "Epoch 1/10\n",
            "\u001b[1m1724/1724\u001b[0m \u001b[32m━━━━━━━━━━━━━━━━━━━━\u001b[0m\u001b[37m\u001b[0m \u001b[1m755s\u001b[0m 430ms/step - accuracy: 0.6049 - loss: 1.7322 - val_accuracy: 0.8262 - val_loss: 0.6021\n",
            "Epoch 2/10\n",
            "\u001b[1m1724/1724\u001b[0m \u001b[32m━━━━━━━━━━━━━━━━━━━━\u001b[0m\u001b[37m\u001b[0m \u001b[1m740s\u001b[0m 429ms/step - accuracy: 0.8602 - loss: 0.4841 - val_accuracy: 0.9315 - val_loss: 0.2423\n",
            "Epoch 3/10\n",
            "\u001b[1m1724/1724\u001b[0m \u001b[32m━━━━━━━━━━━━━━━━━━━━\u001b[0m\u001b[37m\u001b[0m \u001b[1m708s\u001b[0m 409ms/step - accuracy: 0.9391 - loss: 0.2151 - val_accuracy: 0.9462 - val_loss: 0.1818\n",
            "Epoch 4/10\n",
            "\u001b[1m1724/1724\u001b[0m \u001b[32m━━━━━━━━━━━━━━━━━━━━\u001b[0m\u001b[37m\u001b[0m \u001b[1m710s\u001b[0m 412ms/step - accuracy: 0.9577 - loss: 0.1436 - val_accuracy: 0.9615 - val_loss: 0.1279\n",
            "Epoch 5/10\n",
            "\u001b[1m1724/1724\u001b[0m \u001b[32m━━━━━━━━━━━━━━━━━━━━\u001b[0m\u001b[37m\u001b[0m \u001b[1m749s\u001b[0m 434ms/step - accuracy: 0.9679 - loss: 0.1064 - val_accuracy: 0.9657 - val_loss: 0.1125\n",
            "Epoch 6/10\n",
            "\u001b[1m1724/1724\u001b[0m \u001b[32m━━━━━━━━━━━━━━━━━━━━\u001b[0m\u001b[37m\u001b[0m \u001b[1m802s\u001b[0m 434ms/step - accuracy: 0.9740 - loss: 0.0851 - val_accuracy: 0.9727 - val_loss: 0.0909\n",
            "Epoch 7/10\n",
            "\u001b[1m1724/1724\u001b[0m \u001b[32m━━━━━━━━━━━━━━━━━━━━\u001b[0m\u001b[37m\u001b[0m \u001b[1m707s\u001b[0m 410ms/step - accuracy: 0.9780 - loss: 0.0715 - val_accuracy: 0.9751 - val_loss: 0.0831\n",
            "Epoch 8/10\n",
            "\u001b[1m1724/1724\u001b[0m \u001b[32m━━━━━━━━━━━━━━━━━━━━\u001b[0m\u001b[37m\u001b[0m \u001b[1m777s\u001b[0m 430ms/step - accuracy: 0.9807 - loss: 0.0627 - val_accuracy: 0.9776 - val_loss: 0.0768\n",
            "Epoch 9/10\n",
            "\u001b[1m1724/1724\u001b[0m \u001b[32m━━━━━━━━━━━━━━━━━━━━\u001b[0m\u001b[37m\u001b[0m \u001b[1m747s\u001b[0m 433ms/step - accuracy: 0.9834 - loss: 0.0536 - val_accuracy: 0.9728 - val_loss: 0.0897\n",
            "Epoch 10/10\n",
            "\u001b[1m1724/1724\u001b[0m \u001b[32m━━━━━━━━━━━━━━━━━━━━\u001b[0m\u001b[37m\u001b[0m \u001b[1m802s\u001b[0m 433ms/step - accuracy: 0.9854 - loss: 0.0472 - val_accuracy: 0.9791 - val_loss: 0.0701\n",
            "\u001b[1m1/1\u001b[0m \u001b[32m━━━━━━━━━━━━━━━━━━━━\u001b[0m\u001b[37m\u001b[0m \u001b[1m2s\u001b[0m 2s/step\n",
            "English: She is driving the car\n",
            "French: elle conduit la la voiture\n"
          ]
        }
      ],
      "source": [
        "#Test Your Zaka\n",
        "# Train the model\n",
        "history2 = model2.fit(\n",
        "    x=english_padded,\n",
        "    y=french_padded.reshape(french_padded.shape[0], french_padded.shape[1], 1),\n",
        "    batch_size=64,\n",
        "    epochs=10,  # Adjust based on your runtime constraints\n",
        "    validation_split=0.2\n",
        ")\n",
        "\n",
        "\n",
        "##To test new Model\n",
        "# Translate a sentence\n",
        "input_sentence = \"She is driving the car\"\n",
        "translated_sentence = translate_sentence(\n",
        "    input_sentence=input_sentence,\n",
        "    model=model2,\n",
        "    english_tokenizer=english_tokenizer,\n",
        "    french_tokenizer=french_tokenizer,\n",
        "    max_length_eng=max_length_eng,\n",
        "    max_length_fr=max_length_fr\n",
        ")\n",
        "\n",
        "# Print the result\n",
        "print(\"English:\", input_sentence)\n",
        "print(\"French:\", translated_sentence)\n"
      ]
    },
    {
      "cell_type": "markdown",
      "source": [
        "Define a new function that relies on your new model to make predictions."
      ],
      "metadata": {
        "id": "CkpOI2JI0GBx"
      }
    },
    {
      "cell_type": "code",
      "execution_count": null,
      "metadata": {
        "id": "Gulu8OiXTbae"
      },
      "outputs": [],
      "source": [
        "#Test Your Zaka\n",
        "import numpy as np\n",
        "\n",
        "def translate_with_model2(input_sentence, model, english_tokenizer, french_tokenizer, max_length_eng, max_length_fr):\n",
        "    \"\"\"\n",
        "    Translate an English sentence to French using the bidirectional model.\n",
        "\n",
        "    Parameters:\n",
        "        input_sentence (str): The English sentence to translate.\n",
        "        model (keras.Model): The trained Seq2Seq model (model2).\n",
        "        english_tokenizer (Tokenizer): Tokenizer for English sentences.\n",
        "        french_tokenizer (Tokenizer): Tokenizer for French sentences.\n",
        "        max_length_eng (int): Maximum length of English sentences after padding.\n",
        "        max_length_fr (int): Maximum length of French sentences after padding.\n",
        "\n",
        "    Returns:\n",
        "        str: Translated French sentence.\n",
        "    \"\"\"\n",
        "    # Tokenize and pad the input sentence\n",
        "    input_sequence = english_tokenizer.texts_to_sequences([input_sentence])\n",
        "    input_padded = pad_sequences(input_sequence, maxlen=max_length_eng, padding='post')\n",
        "\n",
        "    # Make prediction using the model\n",
        "    prediction = model.predict(input_padded, verbose=0)\n",
        "\n",
        "    # Get the index of the highest probability word at each time step\n",
        "    predicted_indices = np.argmax(prediction[0], axis=-1)\n",
        "\n",
        "    # Convert indices back to words\n",
        "    reverse_french_word_index = {idx: word for word, idx in french_tokenizer.word_index.items()}\n",
        "    translated_words = [reverse_french_word_index.get(index, '') for index in predicted_indices if index > 0]\n",
        "\n",
        "    # Join the words into a sentence\n",
        "    translated_sentence = ' '.join(translated_words)\n",
        "    return translated_sentence\n"
      ]
    },
    {
      "cell_type": "code",
      "source": [
        "input = \"she is driving the truck\"\n",
        "\n",
        "#Test Your Zaka\n",
        "# Translate using the new model\n",
        "translated_sentence = translate_with_model2(\n",
        "    input_sentence=input_sentence,\n",
        "    model=model2,\n",
        "    english_tokenizer=english_tokenizer,\n",
        "    french_tokenizer=french_tokenizer,\n",
        "    max_length_eng=max_length_eng,\n",
        "    max_length_fr=max_length_fr\n",
        ")\n",
        "\n",
        "# Print the results\n",
        "print(\"English Sentence:\", input)\n",
        "print(\"Translated French Sentence:\", translated_sentence)"
      ],
      "metadata": {
        "id": "8CO0pO6-UAeE",
        "colab": {
          "base_uri": "https://localhost:8080/"
        },
        "outputId": "fedb94b8-db6a-49cb-e4da-29cdc90138a3"
      },
      "execution_count": null,
      "outputs": [
        {
          "output_type": "stream",
          "name": "stdout",
          "text": [
            "English Sentence: she is driving the truck\n",
            "Translated French Sentence: elle conduit la la voiture\n"
          ]
        }
      ]
    },
    {
      "cell_type": "markdown",
      "source": [
        "**What is another adjustment in terms of architecture that you might be able to do to improve your model?**"
      ],
      "metadata": {
        "id": "YGeXrjqbZen7"
      }
    },
    {
      "cell_type": "markdown",
      "source": [
        "To improve your model, you can consider several architectural adjustments. Adding an **attention mechanism** helps the model focus on relevant parts of the input, improving translation quality, especially for longer sentences. **Stacking multiple RNN layers** allows the model to capture more complex features. Using **pretrained embeddings** like GloVe or Word2Vec can boost performance by leveraging linguistic knowledge. You can also try **bidirectional encoders with attention** for better context understanding or even explore **transformer-based models**, which are powerful in translation tasks. **Regularization techniques** like dropout or weight decay can prevent overfitting, and **teacher forcing** improves training by providing actual target outputs during decoder steps. Lastly, **residual connections** and **beam search** or **sampling** during inference can further enhance model stability and translation diversity."
      ],
      "metadata": {
        "id": "bekjOkjbZlBf"
      }
    },
    {
      "cell_type": "markdown",
      "source": [
        "**What are some additional ways that we can do to improve the performance of our model?**"
      ],
      "metadata": {
        "id": "pnIN2lD2tn05"
      }
    },
    {
      "cell_type": "markdown",
      "source": [
        "To improve model performance, we can try hyperparameter tuning to find optimal configurations, use data augmentation to increase training data diversity, and implement pretrained models like BERT or GPT for better translation accuracy. Adding an attention mechanism, using ensemble methods, and fine-tuning word embeddings can also boost performance. To prevent overfitting, techniques like dropout, early stopping, and weight decay are useful. Finally, increasing the training dataset or leveraging more labeled translation pairs can help the model generalize better."
      ],
      "metadata": {
        "id": "s7_MCCbQt3uq"
      }
    },
    {
      "cell_type": "code",
      "source": [],
      "metadata": {
        "id": "_cA93K-TUbcR"
      },
      "execution_count": null,
      "outputs": []
    }
  ],
  "metadata": {
    "colab": {
      "provenance": [],
      "include_colab_link": true
    },
    "kernelspec": {
      "display_name": "Python 3",
      "name": "python3"
    },
    "language_info": {
      "name": "python"
    }
  },
  "nbformat": 4,
  "nbformat_minor": 0
}